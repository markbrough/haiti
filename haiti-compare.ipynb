{
 "cells": [
  {
   "cell_type": "code",
   "execution_count": 1,
   "metadata": {
    "collapsed": false
   },
   "outputs": [],
   "source": [
    "from lxml import etree\n",
    "import pandas as pd\n",
    "from collections import OrderedDict\n",
    "import re\n",
    "pd.options.mode.chained_assignment = None\n",
    "from datetime import datetime, date\n",
    "import xlrd"
   ]
  },
  {
   "cell_type": "code",
   "execution_count": 2,
   "metadata": {
    "collapsed": true
   },
   "outputs": [],
   "source": [
    "FN_MGAE = \"March 2016 All Fields MGAE Export.xls\"\n",
    "FN_WB = \"worldbank-ht-20160326.xml\"\n",
    "FN_CA = \"canada-ht-20160326.xml\"\n",
    "FY_START_MONTH = 10 # Starts on 1 October\n",
    "RELEVANT_FYs = [2010,2011,2012,2013,2014,2015]\n",
    "COLS = ['EAMM ID', 'Project Title', 'Budget Code Project ID', 'Cris Number', 'Organizations and Project ID', 'Project Comments', 'Objective', 'Project Description', 'Results', 'Status', 'Actual Approval Date', 'Actual Completion Date', 'Actual Start Date', 'Proposed Approval Date', 'Proposed Completion Date', 'Proposed Start Date', 'Country', 'District', 'Implementation Level', 'Region', 'Zone', 'Donor Agency', 'Donor Group', 'Donor Type', 'Financing Instrument', 'Funding Organization ID', 'Multi Donor', 'Type Of Assistance', 'Actors', 'Issues', 'Measures Taken', 'Primary Sector', 'Primary Sector sub-sector', 'Primary Sector Sub-Sub-Sector', 'Secondary Sector', 'Secondary Sector sub-sector', 'Responsible Organization', 'Line Ministry Groups', 'Executing Agency', 'Executing Agency Groups', 'Executing Agency Type', 'Implementing Agency', 'Implementing Agency Groups', 'Implementing Agency Type', 'Contracting agency', 'Contracting Agency Acronym', 'Contracting Agency Department/Division', 'Contracting Agency Groups', 'Beneficiary Agency', 'Beneficiary Agency  Department/Division', 'Beneficiary Agency Groups', 'Sector Group', 'Sector Group Department/Division', 'National Planning Objectives', 'National Planning Objectives Level 1', 'National Planning Objectives Level 2', 'National Planning Objectives Level 3', 'Primary program', 'Primary Program Level 1', 'Primary Program Level 2', 'Primary Program Level 3', 'Secondary program', 'Secondary Program Level 1', 'Secondary Program Level 2', 'Secondary Program Level 3', 'Financial Instrument', 'FY', 'Ministry Code', 'On/Off/Treasury Budget', 'Project Code', 'Proposed Project Amount']\n",
    "FIN_TYPES = ['Actual Commitments', 'Actual Disbursements', 'Planned Commitments', 'Planned disbursements']\n",
    "FIN_GROUPS = ['FY2010_11', 'FY2011_12', 'FY2012_13', 'FY2013_14', 'FY2014_15', 'FY2015_16', 'Total']\n",
    "for f in FIN_GROUPS:\n",
    "    for t in FIN_TYPES:\n",
    "        COLS.append(\"%s_%s\" % (f, t))"
   ]
  },
  {
   "cell_type": "code",
   "execution_count": 3,
   "metadata": {
    "collapsed": true
   },
   "outputs": [],
   "source": [
    "doc_wb = etree.parse(FN_WB)\n",
    "doc_ca = etree.parse(FN_CA)"
   ]
  },
  {
   "cell_type": "markdown",
   "metadata": {},
   "source": [
    "### Set up some helper functions"
   ]
  },
  {
   "cell_type": "code",
   "execution_count": 4,
   "metadata": {
    "collapsed": false
   },
   "outputs": [],
   "source": [
    "# Extract data from IATI activities\n",
    "nsmap = {\"xml\": \"http://www.w3.org/XML/1998/namespace\"}\n",
    "def relevant_FY(transaction, relevant_FYs=RELEVANT_FYs):\n",
    "    if transaction[\"FY\"] in relevant_FYs: return True\n",
    "    return False\n",
    "\n",
    "def sum_transactions_in_FY(transactions, FY):\n",
    "    def this_relevant_FY(transaction):\n",
    "        if transaction[\"FY\"] == FY: return True\n",
    "        return False\n",
    "    \n",
    "    relevant_transactions = filter(this_relevant_FY, transactions)\n",
    "    return sum(map(lambda x: x[\"value\"], relevant_transactions))\n",
    "\n",
    "def sum_FYs(dataframe):\n",
    "    for FY in RELEVANT_FYs:\n",
    "        dataframe[\"iati_disbursements_%s\" % FY] = dataframe[\"transactions\"].apply(lambda x: sum_transactions_in_FY(x, FY))\n",
    "    dataframe = dataframe.drop(\"transactions\", 1)\n",
    "    return dataframe\n",
    "\n",
    "# Handle v2.01 data\n",
    "def get_transactions(transactions):\n",
    "    def get_FY(date):\n",
    "        d = datetime.strptime(date, \"%Y-%m-%d\")\n",
    "        year = d.year\n",
    "        if d.month < FY_START_MONTH: return year-1\n",
    "        return year\n",
    "    \n",
    "    for transaction in transactions:\n",
    "        yield {\"date\": unicode(transaction.find(\"transaction-date\").get(\"iso-date\")),\n",
    "               \"value\": float(transaction.find(\"value\").text),\n",
    "               \"FY\": get_FY(unicode(transaction.find(\"transaction-date\").get(\"iso-date\")))\n",
    "              }\n",
    "def get_data(activity):\n",
    "    return OrderedDict({\n",
    "        \"iati_identifier\": activity.find(\"iati-identifier\").text,\n",
    "        \"title\": unicode(activity.find(\"title/narrative[@xml:lang='en']\", namespaces=nsmap).text),\n",
    "        \"start_date\": unicode(activity.find(\"activity-date[@type='2']\").get(\"iso-date\")),\n",
    "        \"aid_type\": unicode(activity.find(\"default-aid-type\").get(\"code\")),\n",
    "        \"activity_status\": unicode(activity.find(\"activity-status\").get(\"code\")),\n",
    "        \"haiti_country_pct\": float(activity.find(\"recipient-country[@code='HT']\").get(\"percentage\")),\n",
    "        \"implementing_org\": unicode(activity.find(\n",
    "                    \"participating-org[@role='4']/narrative[@xml:lang='en']\",\n",
    "                    namespaces=nsmap\n",
    "                    ).text),\n",
    "        \"iati_currency\": unicode(activity.get(\"default-currency\")),\n",
    "        \"iati_total_disbursements\": float(activity.xpath(\"sum(transaction[transaction-type/@code='3']/value/text())\")),\n",
    "        \"iati_total_commitments\": float(activity.xpath(\"sum(transaction[transaction-type/@code='2']/value/text())\")),\n",
    "        \"transactions\": filter(relevant_FY, get_transactions(activity.xpath(\"transaction[transaction-type/@code='3']\")))\n",
    "    })\n",
    "def parse_activities(activities):\n",
    "    for activity in activities:\n",
    "        yield get_data(activity)\n",
    "\n",
    "## We have to handle v1.05 data differently...\n",
    "def get_data_105(activity):\n",
    "    return OrderedDict({\n",
    "        \"iati_identifier\": activity.find(\"iati-identifier\").text,\n",
    "        \"title\": unicode(activity.find(\"title\").text),\n",
    "        \"start_date\": unicode(activity.find(\"activity-date[@type='start-planned']\").get(\"iso-date\")),\n",
    "        \"aid_type\": unicode(activity.find(\"default-aid-type\").get(\"code\")),\n",
    "        \"activity_status\": unicode(activity.find(\"activity-status\").get(\"code\")),\n",
    "        \"haiti_country_pct\": float(activity.find(\"recipient-country[@code='HT']\").get(\"percentage\")),\n",
    "        \"implementing_org\": unicode(activity.find(\n",
    "                    \"participating-org[@role='Implementing']\"\n",
    "                    ).text),\n",
    "        \"iati_currency\": unicode(activity.get(\"default-currency\")),\n",
    "        \"iati_total_disbursements\": float(activity.xpath(\"sum(transaction[transaction-type/@code='D']/value/text())\")),\n",
    "        \"iati_total_commitments\": float(activity.xpath(\"sum(transaction[transaction-type/@code='C']/value/text())\")),\n",
    "        \"transactions\": filter(relevant_FY, get_transactions(activity.xpath(\"transaction[transaction-type/@code='D']\")))\n",
    "    })\n",
    "def parse_activities_105(activities):\n",
    "    for activity in activities:\n",
    "        yield get_data_105(activity)\n",
    "\n",
    "# Get project ID from MGAE data\n",
    "def get_project_ID(value):\n",
    "    try:\n",
    "        if re.search(\"^ - (.*) \\((.*)\\)\\n - (.*) \\((.*)\\)\", value):\n",
    "            result = re.search(\"^ - (.*) \\((.*)\\)\\n - (.*) \\((.*)\\)\", value).groups()\n",
    "            return result[0], result[2]\n",
    "        elif re.search(\"^\\((.*)\\) \\((.*)\\)\", value):\n",
    "            return re.search(\"^\\((.*)\\) \\((.*)\\)\", value).groups()[0]\n",
    "        elif re.search(\"^\\((.*)\\)\", value):\n",
    "            return re.search(\"^\\((.*)\\)\", value).groups()[0]\n",
    "        elif re.search(\"^(.*) \\((.*)\\)\", value):\n",
    "            return re.search(\"^(.*) \\((.*)\\)\", value).groups()[0]\n",
    "        else:\n",
    "            return value\n",
    "    except TypeError: \n",
    "        return value\n",
    "def get_iati_id(row):\n",
    "    prefixes = {\"Banque mondiale\": \"44000\",\n",
    "                \"Canada\": \"CA-3\"}\n",
    "    project_id = re.sub(\"-\", \"\", str(row[\"Project ID\"]))\n",
    "    return \"%s-%s\" % (prefixes[row[\"Donor Group\"]], project_id)"
   ]
  },
  {
   "cell_type": "code",
   "execution_count": 5,
   "metadata": {
    "collapsed": true
   },
   "outputs": [],
   "source": [
    "### Prepare IATI data"
   ]
  },
  {
   "cell_type": "code",
   "execution_count": 6,
   "metadata": {
    "collapsed": false
   },
   "outputs": [],
   "source": [
    "wb_iati_data = pd.DataFrame(parse_activities_105(doc_wb.xpath(\"//iati-activity\")))\n",
    "wb_iati_data = wb_iati_data.set_index(\"iati_identifier\")\n",
    "wb_iati_data = sum_FYs(wb_iati_data)\n",
    "\n",
    "ca_iati_data = pd.DataFrame(parse_activities(doc_ca.xpath(\"//iati-activity\")))\n",
    "ca_iati_data = ca_iati_data.set_index(\"iati_identifier\")\n",
    "ca_iati_data = sum_FYs(ca_iati_data)"
   ]
  },
  {
   "cell_type": "code",
   "execution_count": 7,
   "metadata": {
    "collapsed": false
   },
   "outputs": [],
   "source": [
    "iati = pd.concat([wb_iati_data, ca_iati_data])"
   ]
  },
  {
   "cell_type": "markdown",
   "metadata": {},
   "source": [
    "### Prepare MGAE data"
   ]
  },
  {
   "cell_type": "code",
   "execution_count": 8,
   "metadata": {
    "collapsed": false
   },
   "outputs": [],
   "source": [
    "d = pd.read_excel(FN_MGAE, skiprows=range(0,8), header=None, names=COLS)"
   ]
  },
  {
   "cell_type": "code",
   "execution_count": 9,
   "metadata": {
    "collapsed": false
   },
   "outputs": [],
   "source": [
    "mgae = pd.DataFrame(d)\n",
    "mgae = mgae[[\"Project Title\", \"Organizations and Project ID\", \"Donor Agency\", \"Donor Group\", 'Proposed Project Amount', 'FY2010_11_Actual Commitments',\n",
    " 'FY2010_11_Actual Disbursements', 'FY2010_11_Planned Commitments', 'FY2010_11_Planned disbursements', 'FY2011_12_Actual Commitments',\n",
    " 'FY2011_12_Actual Disbursements', 'FY2011_12_Planned Commitments', 'FY2011_12_Planned disbursements', 'FY2012_13_Actual Commitments',\n",
    " 'FY2012_13_Actual Disbursements', 'FY2012_13_Planned Commitments', 'FY2012_13_Planned disbursements', 'FY2013_14_Actual Commitments',\n",
    " 'FY2013_14_Actual Disbursements', 'FY2013_14_Planned Commitments', 'FY2013_14_Planned disbursements', 'FY2014_15_Actual Commitments',\n",
    " 'FY2014_15_Actual Disbursements', 'FY2014_15_Planned Commitments', 'FY2014_15_Planned disbursements', 'FY2015_16_Actual Commitments',\n",
    " 'FY2015_16_Actual Disbursements', 'FY2015_16_Planned Commitments', 'FY2015_16_Planned disbursements', 'Total_Actual Commitments',\n",
    " 'Total_Actual Disbursements', 'Total_Planned Commitments', 'Total_Planned disbursements']]\n",
    "mgae = mgae[((mgae[\"Donor Group\"] == \"Banque mondiale\") | (mgae[\"Donor Group\"] == \"Canada\"))]\n",
    "mgae[\"Project ID\"] = mgae[\"Organizations and Project ID\"]\n",
    "mgae[\"Project ID\"] = mgae[\"Project ID\"].apply(lambda x: get_project_ID(x))\n",
    "\n",
    "mgae[\"iati_identifier\"] = mgae.apply(lambda x: get_iati_id(x), axis=1)\n",
    "mgae = mgae.set_index(\"iati_identifier\")\n",
    "\n",
    "mgae_iati = mgae.join(iati, lsuffix=\"_aims\", rsuffix=\"_iati\", how=\"outer\").fillna(\"NOT FOUND\").sort_index()"
   ]
  },
  {
   "cell_type": "code",
   "execution_count": 10,
   "metadata": {
    "collapsed": false
   },
   "outputs": [],
   "source": [
    "mgae_iati.to_excel(\"mgae_iati_20160326.xlsx\", encoding='utf-8')"
   ]
  },
  {
   "cell_type": "code",
   "execution_count": null,
   "metadata": {
    "collapsed": false
   },
   "outputs": [],
   "source": []
  },
  {
   "cell_type": "markdown",
   "metadata": {},
   "source": []
  }
 ],
 "metadata": {
  "kernelspec": {
   "display_name": "Python 2",
   "language": "python",
   "name": "python2"
  },
  "language_info": {
   "codemirror_mode": {
    "name": "ipython",
    "version": 2
   },
   "file_extension": ".py",
   "mimetype": "text/x-python",
   "name": "python",
   "nbconvert_exporter": "python",
   "pygments_lexer": "ipython2",
   "version": "2.7.9"
  }
 },
 "nbformat": 4,
 "nbformat_minor": 0
}
